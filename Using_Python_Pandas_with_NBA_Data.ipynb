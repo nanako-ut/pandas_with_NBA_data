{
 "cells": [
  {
   "cell_type": "markdown",
   "metadata": {},
   "source": [
    "# Using Python Pandas with NBA Data"
   ]
  },
  {
   "cell_type": "markdown",
   "metadata": {},
   "source": [
    "**Abstract**\n",
    "\n",
    "Pandasの基本的なコマンドを実行し、NBAのサンプルデータを分析します。\n",
    "サンプルデータはPandasで読み込めるカンマ区切りのCSVファイルです。"
   ]
  },
  {
   "cell_type": "markdown",
   "metadata": {},
   "source": [
    "# 1 Python: Data Manipulation"
   ]
  },
  {
   "cell_type": "markdown",
   "metadata": {},
   "source": [
    "このドキュメントでは、Python環境でPandasを使ってデータを分析する方法を検討します。\n",
    "\n",
    "Pandasのデータフレーム（DataFrame）を使ってCSVファイルを扱い、他のPythonパッケージでさらに処理できるよう、簡単な計算や加工をします。\n",
    "\n",
    "\n",
    "ここでは、2016年3月12日　オクラホマシティ・サンダー vs サントニオ・スパーズの試合データを使います。"
   ]
  },
  {
   "cell_type": "code",
   "execution_count": 32,
   "metadata": {},
   "outputs": [],
   "source": [
    "\"\"\"\n",
    "# チュートリアルには[2016-03-12]-0021500979-OKC@SAS.csv　とあったが、\n",
    "# CSVファイルが入手できなかったので、2016年6月10日の GSW vs CLE 戦のデータを使う\n",
    "#\n",
    "\"\"\" \n",
    "\n",
    "file = '(2016-06-10)-0041500404-GSW@CLE.csv'"
   ]
  },
  {
   "cell_type": "markdown",
   "metadata": {},
   "source": [
    "# 2 Pandas\n",
    "\n",
    "Pandasをインポートします。<br/>\n",
    "もしPandaがインストールされていない場合は、「pip install pandas」を実行しましょう。"
   ]
  },
  {
   "cell_type": "code",
   "execution_count": 3,
   "metadata": {},
   "outputs": [],
   "source": [
    " import pandas as pd"
   ]
  },
  {
   "cell_type": "markdown",
   "metadata": {},
   "source": [
    "## 2.1 Reading In Files and Accessing Data"
   ]
  },
  {
   "cell_type": "markdown",
   "metadata": {},
   "source": [
    "CSVファイルを読み込みます"
   ]
  },
  {
   "cell_type": "code",
   "execution_count": 14,
   "metadata": {},
   "outputs": [],
   "source": [
    "game = pd.read_csv(file)"
   ]
  },
  {
   "cell_type": "markdown",
   "metadata": {},
   "source": [
    "データの形式（行数・列数）をチェックします"
   ]
  },
  {
   "cell_type": "code",
   "execution_count": 17,
   "metadata": {},
   "outputs": [
    {
     "data": {
      "text/plain": [
       "(467, 44)"
      ]
     },
     "execution_count": 17,
     "metadata": {},
     "output_type": "execute_result"
    }
   ],
   "source": [
    "game.shape"
   ]
  },
  {
   "cell_type": "markdown",
   "metadata": {},
   "source": [
    "どのような項目のデータが格納されているのでしょうか。<br/>\n",
    "列名を表示します"
   ]
  },
  {
   "cell_type": "code",
   "execution_count": 19,
   "metadata": {},
   "outputs": [
    {
     "data": {
      "text/plain": [
       "array(['game_id', 'data_set', 'date', 'a1', 'a2', 'a3', 'a4', 'a5', 'h1',\n",
       "       'h2', 'h3', 'h4', 'h5', 'period', 'away_score', 'home_score',\n",
       "       'remaining_time', 'elapsed', 'play_length', 'play_id', 'team',\n",
       "       'event_type', 'assist', 'away', 'home', 'block', 'entered', 'left',\n",
       "       'num', 'opponent', 'outof', 'player', 'points', 'possession',\n",
       "       'reason', 'result', 'steal', 'type', 'shot_distance', 'original_x',\n",
       "       'original_y', 'converted_x', 'converted_y', 'explanation'],\n",
       "      dtype=object)"
      ]
     },
     "execution_count": 19,
     "metadata": {},
     "output_type": "execute_result"
    }
   ],
   "source": [
    "game.columns.values"
   ]
  },
  {
   "cell_type": "markdown",
   "metadata": {},
   "source": [
    "columnsとそのサブ属性valuesを使うことで、列名の配列を参照できました。\n",
    "\n",
    "次にheadやtailコマンドを使ってみましょう。"
   ]
  },
  {
   "cell_type": "code",
   "execution_count": 21,
   "metadata": {},
   "outputs": [
    {
     "data": {
      "text/html": [
       "<div>\n",
       "<style scoped>\n",
       "    .dataframe tbody tr th:only-of-type {\n",
       "        vertical-align: middle;\n",
       "    }\n",
       "\n",
       "    .dataframe tbody tr th {\n",
       "        vertical-align: top;\n",
       "    }\n",
       "\n",
       "    .dataframe thead th {\n",
       "        text-align: right;\n",
       "    }\n",
       "</style>\n",
       "<table border=\"1\" class=\"dataframe\">\n",
       "  <thead>\n",
       "    <tr style=\"text-align: right;\">\n",
       "      <th></th>\n",
       "      <th>game_id</th>\n",
       "      <th>data_set</th>\n",
       "      <th>date</th>\n",
       "      <th>a1</th>\n",
       "      <th>a2</th>\n",
       "      <th>a3</th>\n",
       "      <th>a4</th>\n",
       "      <th>a5</th>\n",
       "      <th>h1</th>\n",
       "      <th>h2</th>\n",
       "      <th>...</th>\n",
       "      <th>reason</th>\n",
       "      <th>result</th>\n",
       "      <th>steal</th>\n",
       "      <th>type</th>\n",
       "      <th>shot_distance</th>\n",
       "      <th>original_x</th>\n",
       "      <th>original_y</th>\n",
       "      <th>converted_x</th>\n",
       "      <th>converted_y</th>\n",
       "      <th>explanation</th>\n",
       "    </tr>\n",
       "  </thead>\n",
       "  <tbody>\n",
       "    <tr>\n",
       "      <th>0</th>\n",
       "      <td>41500404</td>\n",
       "      <td>2016 Playoff</td>\n",
       "      <td>6/10/16</td>\n",
       "      <td>Harrison Barnes</td>\n",
       "      <td>Draymond Green</td>\n",
       "      <td>Andrew Bogut</td>\n",
       "      <td>Klay Thompson</td>\n",
       "      <td>Stephen Curry</td>\n",
       "      <td>Richard Jefferson</td>\n",
       "      <td>LeBron James</td>\n",
       "      <td>...</td>\n",
       "      <td>NaN</td>\n",
       "      <td>NaN</td>\n",
       "      <td>NaN</td>\n",
       "      <td>start of period</td>\n",
       "      <td>NaN</td>\n",
       "      <td>NaN</td>\n",
       "      <td>NaN</td>\n",
       "      <td>NaN</td>\n",
       "      <td>NaN</td>\n",
       "      <td>NaN</td>\n",
       "    </tr>\n",
       "    <tr>\n",
       "      <th>1</th>\n",
       "      <td>41500404</td>\n",
       "      <td>2016 Playoff</td>\n",
       "      <td>6/10/16</td>\n",
       "      <td>Harrison Barnes</td>\n",
       "      <td>Draymond Green</td>\n",
       "      <td>Andrew Bogut</td>\n",
       "      <td>Klay Thompson</td>\n",
       "      <td>Stephen Curry</td>\n",
       "      <td>Richard Jefferson</td>\n",
       "      <td>LeBron James</td>\n",
       "      <td>...</td>\n",
       "      <td>NaN</td>\n",
       "      <td>NaN</td>\n",
       "      <td>NaN</td>\n",
       "      <td>jump ball</td>\n",
       "      <td>NaN</td>\n",
       "      <td>NaN</td>\n",
       "      <td>NaN</td>\n",
       "      <td>NaN</td>\n",
       "      <td>NaN</td>\n",
       "      <td>Jump Ball Thompson vs. Bogut: Tip to Curry</td>\n",
       "    </tr>\n",
       "    <tr>\n",
       "      <th>2</th>\n",
       "      <td>41500404</td>\n",
       "      <td>2016 Playoff</td>\n",
       "      <td>6/10/16</td>\n",
       "      <td>Harrison Barnes</td>\n",
       "      <td>Draymond Green</td>\n",
       "      <td>Andrew Bogut</td>\n",
       "      <td>Klay Thompson</td>\n",
       "      <td>Stephen Curry</td>\n",
       "      <td>Richard Jefferson</td>\n",
       "      <td>LeBron James</td>\n",
       "      <td>...</td>\n",
       "      <td>NaN</td>\n",
       "      <td>missed</td>\n",
       "      <td>NaN</td>\n",
       "      <td>Jump Shot</td>\n",
       "      <td>25.0</td>\n",
       "      <td>-4.0</td>\n",
       "      <td>247.0</td>\n",
       "      <td>25.4</td>\n",
       "      <td>29.7</td>\n",
       "      <td>MISS Green 25' 3PT Jump Shot</td>\n",
       "    </tr>\n",
       "    <tr>\n",
       "      <th>3</th>\n",
       "      <td>41500404</td>\n",
       "      <td>2016 Playoff</td>\n",
       "      <td>6/10/16</td>\n",
       "      <td>Harrison Barnes</td>\n",
       "      <td>Draymond Green</td>\n",
       "      <td>Andrew Bogut</td>\n",
       "      <td>Klay Thompson</td>\n",
       "      <td>Stephen Curry</td>\n",
       "      <td>Richard Jefferson</td>\n",
       "      <td>LeBron James</td>\n",
       "      <td>...</td>\n",
       "      <td>NaN</td>\n",
       "      <td>NaN</td>\n",
       "      <td>NaN</td>\n",
       "      <td>rebound offensive</td>\n",
       "      <td>NaN</td>\n",
       "      <td>NaN</td>\n",
       "      <td>NaN</td>\n",
       "      <td>NaN</td>\n",
       "      <td>NaN</td>\n",
       "      <td>Barnes REBOUND (Off:1 Def:0)</td>\n",
       "    </tr>\n",
       "    <tr>\n",
       "      <th>4</th>\n",
       "      <td>41500404</td>\n",
       "      <td>2016 Playoff</td>\n",
       "      <td>6/10/16</td>\n",
       "      <td>Harrison Barnes</td>\n",
       "      <td>Draymond Green</td>\n",
       "      <td>Andrew Bogut</td>\n",
       "      <td>Klay Thompson</td>\n",
       "      <td>Stephen Curry</td>\n",
       "      <td>Richard Jefferson</td>\n",
       "      <td>LeBron James</td>\n",
       "      <td>...</td>\n",
       "      <td>NaN</td>\n",
       "      <td>made</td>\n",
       "      <td>NaN</td>\n",
       "      <td>Jump Shot</td>\n",
       "      <td>23.0</td>\n",
       "      <td>225.0</td>\n",
       "      <td>-6.0</td>\n",
       "      <td>2.5</td>\n",
       "      <td>4.4</td>\n",
       "      <td>Barnes  3PT Jump Shot (3 PTS) (Curry 1 AST)</td>\n",
       "    </tr>\n",
       "  </tbody>\n",
       "</table>\n",
       "<p>5 rows × 44 columns</p>\n",
       "</div>"
      ],
      "text/plain": [
       "    game_id      data_set     date               a1              a2  \\\n",
       "0  41500404  2016 Playoff  6/10/16  Harrison Barnes  Draymond Green   \n",
       "1  41500404  2016 Playoff  6/10/16  Harrison Barnes  Draymond Green   \n",
       "2  41500404  2016 Playoff  6/10/16  Harrison Barnes  Draymond Green   \n",
       "3  41500404  2016 Playoff  6/10/16  Harrison Barnes  Draymond Green   \n",
       "4  41500404  2016 Playoff  6/10/16  Harrison Barnes  Draymond Green   \n",
       "\n",
       "             a3             a4             a5                 h1  \\\n",
       "0  Andrew Bogut  Klay Thompson  Stephen Curry  Richard Jefferson   \n",
       "1  Andrew Bogut  Klay Thompson  Stephen Curry  Richard Jefferson   \n",
       "2  Andrew Bogut  Klay Thompson  Stephen Curry  Richard Jefferson   \n",
       "3  Andrew Bogut  Klay Thompson  Stephen Curry  Richard Jefferson   \n",
       "4  Andrew Bogut  Klay Thompson  Stephen Curry  Richard Jefferson   \n",
       "\n",
       "             h2                     ...                      reason  result  \\\n",
       "0  LeBron James                     ...                         NaN     NaN   \n",
       "1  LeBron James                     ...                         NaN     NaN   \n",
       "2  LeBron James                     ...                         NaN  missed   \n",
       "3  LeBron James                     ...                         NaN     NaN   \n",
       "4  LeBron James                     ...                         NaN    made   \n",
       "\n",
       "  steal               type  shot_distance  original_x original_y converted_x  \\\n",
       "0   NaN    start of period            NaN         NaN        NaN         NaN   \n",
       "1   NaN          jump ball            NaN         NaN        NaN         NaN   \n",
       "2   NaN          Jump Shot           25.0        -4.0      247.0        25.4   \n",
       "3   NaN  rebound offensive            NaN         NaN        NaN         NaN   \n",
       "4   NaN          Jump Shot           23.0       225.0       -6.0         2.5   \n",
       "\n",
       "  converted_y                                  explanation  \n",
       "0         NaN                                          NaN  \n",
       "1         NaN   Jump Ball Thompson vs. Bogut: Tip to Curry  \n",
       "2        29.7                 MISS Green 25' 3PT Jump Shot  \n",
       "3         NaN                 Barnes REBOUND (Off:1 Def:0)  \n",
       "4         4.4  Barnes  3PT Jump Shot (3 PTS) (Curry 1 AST)  \n",
       "\n",
       "[5 rows x 44 columns]"
      ]
     },
     "execution_count": 21,
     "metadata": {},
     "output_type": "execute_result"
    }
   ],
   "source": [
    "game.head(5)"
   ]
  },
  {
   "cell_type": "code",
   "execution_count": 22,
   "metadata": {},
   "outputs": [
    {
     "data": {
      "text/html": [
       "<div>\n",
       "<style scoped>\n",
       "    .dataframe tbody tr th:only-of-type {\n",
       "        vertical-align: middle;\n",
       "    }\n",
       "\n",
       "    .dataframe tbody tr th {\n",
       "        vertical-align: top;\n",
       "    }\n",
       "\n",
       "    .dataframe thead th {\n",
       "        text-align: right;\n",
       "    }\n",
       "</style>\n",
       "<table border=\"1\" class=\"dataframe\">\n",
       "  <thead>\n",
       "    <tr style=\"text-align: right;\">\n",
       "      <th></th>\n",
       "      <th>game_id</th>\n",
       "      <th>data_set</th>\n",
       "      <th>date</th>\n",
       "      <th>a1</th>\n",
       "      <th>a2</th>\n",
       "      <th>a3</th>\n",
       "      <th>a4</th>\n",
       "      <th>a5</th>\n",
       "      <th>h1</th>\n",
       "      <th>h2</th>\n",
       "      <th>...</th>\n",
       "      <th>reason</th>\n",
       "      <th>result</th>\n",
       "      <th>steal</th>\n",
       "      <th>type</th>\n",
       "      <th>shot_distance</th>\n",
       "      <th>original_x</th>\n",
       "      <th>original_y</th>\n",
       "      <th>converted_x</th>\n",
       "      <th>converted_y</th>\n",
       "      <th>explanation</th>\n",
       "    </tr>\n",
       "  </thead>\n",
       "  <tbody>\n",
       "    <tr>\n",
       "      <th>462</th>\n",
       "      <td>41500404</td>\n",
       "      <td>2016 Playoff</td>\n",
       "      <td>6/10/16</td>\n",
       "      <td>Klay Thompson</td>\n",
       "      <td>Andre Iguodala</td>\n",
       "      <td>Draymond Green</td>\n",
       "      <td>Shaun Livingston</td>\n",
       "      <td>Stephen Curry</td>\n",
       "      <td>LeBron James</td>\n",
       "      <td>J.R. Smith</td>\n",
       "      <td>...</td>\n",
       "      <td>p.foul</td>\n",
       "      <td>NaN</td>\n",
       "      <td>NaN</td>\n",
       "      <td>p.foul</td>\n",
       "      <td>NaN</td>\n",
       "      <td>NaN</td>\n",
       "      <td>NaN</td>\n",
       "      <td>NaN</td>\n",
       "      <td>NaN</td>\n",
       "      <td>Jefferson P.FOUL (P6.PN) (J.Phillips)</td>\n",
       "    </tr>\n",
       "    <tr>\n",
       "      <th>463</th>\n",
       "      <td>41500404</td>\n",
       "      <td>2016 Playoff</td>\n",
       "      <td>6/10/16</td>\n",
       "      <td>Klay Thompson</td>\n",
       "      <td>Andre Iguodala</td>\n",
       "      <td>Draymond Green</td>\n",
       "      <td>Shaun Livingston</td>\n",
       "      <td>Stephen Curry</td>\n",
       "      <td>LeBron James</td>\n",
       "      <td>J.R. Smith</td>\n",
       "      <td>...</td>\n",
       "      <td>NaN</td>\n",
       "      <td>NaN</td>\n",
       "      <td>NaN</td>\n",
       "      <td>sub</td>\n",
       "      <td>NaN</td>\n",
       "      <td>NaN</td>\n",
       "      <td>NaN</td>\n",
       "      <td>NaN</td>\n",
       "      <td>NaN</td>\n",
       "      <td>SUB: Jones FOR Jefferson</td>\n",
       "    </tr>\n",
       "    <tr>\n",
       "      <th>464</th>\n",
       "      <td>41500404</td>\n",
       "      <td>2016 Playoff</td>\n",
       "      <td>6/10/16</td>\n",
       "      <td>Klay Thompson</td>\n",
       "      <td>Andre Iguodala</td>\n",
       "      <td>Draymond Green</td>\n",
       "      <td>Shaun Livingston</td>\n",
       "      <td>Stephen Curry</td>\n",
       "      <td>LeBron James</td>\n",
       "      <td>J.R. Smith</td>\n",
       "      <td>...</td>\n",
       "      <td>NaN</td>\n",
       "      <td>made</td>\n",
       "      <td>NaN</td>\n",
       "      <td>Free Throw 1 of 2</td>\n",
       "      <td>NaN</td>\n",
       "      <td>NaN</td>\n",
       "      <td>NaN</td>\n",
       "      <td>NaN</td>\n",
       "      <td>NaN</td>\n",
       "      <td>Curry Free Throw 1 of 2 (37 PTS)</td>\n",
       "    </tr>\n",
       "    <tr>\n",
       "      <th>465</th>\n",
       "      <td>41500404</td>\n",
       "      <td>2016 Playoff</td>\n",
       "      <td>6/10/16</td>\n",
       "      <td>Klay Thompson</td>\n",
       "      <td>Andre Iguodala</td>\n",
       "      <td>Draymond Green</td>\n",
       "      <td>Shaun Livingston</td>\n",
       "      <td>Stephen Curry</td>\n",
       "      <td>LeBron James</td>\n",
       "      <td>J.R. Smith</td>\n",
       "      <td>...</td>\n",
       "      <td>NaN</td>\n",
       "      <td>made</td>\n",
       "      <td>NaN</td>\n",
       "      <td>Free Throw 2 of 2</td>\n",
       "      <td>NaN</td>\n",
       "      <td>NaN</td>\n",
       "      <td>NaN</td>\n",
       "      <td>NaN</td>\n",
       "      <td>NaN</td>\n",
       "      <td>Curry Free Throw 2 of 2 (38 PTS)</td>\n",
       "    </tr>\n",
       "    <tr>\n",
       "      <th>466</th>\n",
       "      <td>41500404</td>\n",
       "      <td>2016 Playoff</td>\n",
       "      <td>6/10/16</td>\n",
       "      <td>Klay Thompson</td>\n",
       "      <td>Andre Iguodala</td>\n",
       "      <td>Draymond Green</td>\n",
       "      <td>Shaun Livingston</td>\n",
       "      <td>Stephen Curry</td>\n",
       "      <td>LeBron James</td>\n",
       "      <td>J.R. Smith</td>\n",
       "      <td>...</td>\n",
       "      <td>NaN</td>\n",
       "      <td>NaN</td>\n",
       "      <td>NaN</td>\n",
       "      <td>end of period</td>\n",
       "      <td>NaN</td>\n",
       "      <td>NaN</td>\n",
       "      <td>NaN</td>\n",
       "      <td>NaN</td>\n",
       "      <td>NaN</td>\n",
       "      <td>NaN</td>\n",
       "    </tr>\n",
       "  </tbody>\n",
       "</table>\n",
       "<p>5 rows × 44 columns</p>\n",
       "</div>"
      ],
      "text/plain": [
       "      game_id      data_set     date             a1              a2  \\\n",
       "462  41500404  2016 Playoff  6/10/16  Klay Thompson  Andre Iguodala   \n",
       "463  41500404  2016 Playoff  6/10/16  Klay Thompson  Andre Iguodala   \n",
       "464  41500404  2016 Playoff  6/10/16  Klay Thompson  Andre Iguodala   \n",
       "465  41500404  2016 Playoff  6/10/16  Klay Thompson  Andre Iguodala   \n",
       "466  41500404  2016 Playoff  6/10/16  Klay Thompson  Andre Iguodala   \n",
       "\n",
       "                 a3                a4             a5            h1  \\\n",
       "462  Draymond Green  Shaun Livingston  Stephen Curry  LeBron James   \n",
       "463  Draymond Green  Shaun Livingston  Stephen Curry  LeBron James   \n",
       "464  Draymond Green  Shaun Livingston  Stephen Curry  LeBron James   \n",
       "465  Draymond Green  Shaun Livingston  Stephen Curry  LeBron James   \n",
       "466  Draymond Green  Shaun Livingston  Stephen Curry  LeBron James   \n",
       "\n",
       "             h2                  ...                    reason result steal  \\\n",
       "462  J.R. Smith                  ...                    p.foul    NaN   NaN   \n",
       "463  J.R. Smith                  ...                       NaN    NaN   NaN   \n",
       "464  J.R. Smith                  ...                       NaN   made   NaN   \n",
       "465  J.R. Smith                  ...                       NaN   made   NaN   \n",
       "466  J.R. Smith                  ...                       NaN    NaN   NaN   \n",
       "\n",
       "                  type  shot_distance  original_x original_y converted_x  \\\n",
       "462             p.foul            NaN         NaN        NaN         NaN   \n",
       "463                sub            NaN         NaN        NaN         NaN   \n",
       "464  Free Throw 1 of 2            NaN         NaN        NaN         NaN   \n",
       "465  Free Throw 2 of 2            NaN         NaN        NaN         NaN   \n",
       "466      end of period            NaN         NaN        NaN         NaN   \n",
       "\n",
       "    converted_y                            explanation  \n",
       "462         NaN  Jefferson P.FOUL (P6.PN) (J.Phillips)  \n",
       "463         NaN               SUB: Jones FOR Jefferson  \n",
       "464         NaN       Curry Free Throw 1 of 2 (37 PTS)  \n",
       "465         NaN       Curry Free Throw 2 of 2 (38 PTS)  \n",
       "466         NaN                                    NaN  \n",
       "\n",
       "[5 rows x 44 columns]"
      ]
     },
     "execution_count": 22,
     "metadata": {},
     "output_type": "execute_result"
    }
   ],
   "source": [
    "game.tail(5)"
   ]
  },
  {
   "cell_type": "markdown",
   "metadata": {},
   "source": [
    "もし特定の列のデータを参照したい場合は、列名を指定します。\n",
    "\n",
    "away_score（相手チームの得点のこと？）を見てみましょう"
   ]
  },
  {
   "cell_type": "code",
   "execution_count": 9,
   "metadata": {},
   "outputs": [
    {
     "data": {
      "text/plain": [
       "0        0\n",
       "1        0\n",
       "2        0\n",
       "3        0\n",
       "4        3\n",
       "5        3\n",
       "6        3\n",
       "7        4\n",
       "8        5\n",
       "9        5\n",
       "10       7\n",
       "11       7\n",
       "12       7\n",
       "13       7\n",
       "14      10\n",
       "15      10\n",
       "16      10\n",
       "17      10\n",
       "18      10\n",
       "19      10\n",
       "20      10\n",
       "21      10\n",
       "22      10\n",
       "23      10\n",
       "24      10\n",
       "25      10\n",
       "26      10\n",
       "27      10\n",
       "28      10\n",
       "29      10\n",
       "      ... \n",
       "437     98\n",
       "438     98\n",
       "439     98\n",
       "440     98\n",
       "441     98\n",
       "442     98\n",
       "443     98\n",
       "444     98\n",
       "445     98\n",
       "446     99\n",
       "447     99\n",
       "448    100\n",
       "449    100\n",
       "450    100\n",
       "451    101\n",
       "452    102\n",
       "453    102\n",
       "454    102\n",
       "455    103\n",
       "456    104\n",
       "457    104\n",
       "458    104\n",
       "459    105\n",
       "460    106\n",
       "461    106\n",
       "462    106\n",
       "463    106\n",
       "464    107\n",
       "465    108\n",
       "466    108\n",
       "Name: away_score, Length: 467, dtype: int64"
      ]
     },
     "execution_count": 9,
     "metadata": {},
     "output_type": "execute_result"
    }
   ],
   "source": [
    "game['away_score']"
   ]
  },
  {
   "cell_type": "markdown",
   "metadata": {},
   "source": [
    "通常配列を扱うのと同じように、簡単に参照できます。"
   ]
  },
  {
   "cell_type": "code",
   "execution_count": 23,
   "metadata": {},
   "outputs": [
    {
     "data": {
      "text/plain": [
       "7"
      ]
     },
     "execution_count": 23,
     "metadata": {},
     "output_type": "execute_result"
    }
   ],
   "source": [
    "awayScore = game ['away_score']\n",
    "awayScore[10]"
   ]
  },
  {
   "cell_type": "markdown",
   "metadata": {},
   "source": [
    "行データにアクセスするにはlocコマンドを使います。\n",
    "\n",
    "もしこのゲームでの11番目のアクションが何か知りたい場合は、10を指定します。<br/>\n",
    "（インデックスは0から始まる）"
   ]
  },
  {
   "cell_type": "code",
   "execution_count": 11,
   "metadata": {},
   "outputs": [
    {
     "data": {
      "text/plain": [
       "game_id                                      41500404\n",
       "data_set                                 2016 Playoff\n",
       "date                                          6/10/16\n",
       "a1                                    Harrison Barnes\n",
       "a2                                     Draymond Green\n",
       "a3                                       Andrew Bogut\n",
       "a4                                      Klay Thompson\n",
       "a5                                      Stephen Curry\n",
       "h1                                  Richard Jefferson\n",
       "h2                                       LeBron James\n",
       "h3                                   Tristan Thompson\n",
       "h4                                         J.R. Smith\n",
       "h5                                       Kyrie Irving\n",
       "period                                              1\n",
       "away_score                                          7\n",
       "home_score                                          6\n",
       "remaining_time                                0:10:27\n",
       "elapsed                                       0:01:33\n",
       "play_length                                   0:00:17\n",
       "play_id                                            12\n",
       "team                                              GSW\n",
       "event_type                                       shot\n",
       "assist                                            NaN\n",
       "away                                              NaN\n",
       "home                                              NaN\n",
       "block                                             NaN\n",
       "entered                                           NaN\n",
       "left                                              NaN\n",
       "num                                               NaN\n",
       "opponent                                          NaN\n",
       "outof                                             NaN\n",
       "player                                Harrison Barnes\n",
       "points                                              2\n",
       "possession                                        NaN\n",
       "reason                                            NaN\n",
       "result                                           made\n",
       "steal                                             NaN\n",
       "type                                 Pullup Jump Shot\n",
       "shot_distance                                      14\n",
       "original_x                                        -66\n",
       "original_y                                        129\n",
       "converted_x                                      31.6\n",
       "converted_y                                      17.9\n",
       "explanation       Barnes 14' Pullup Jump Shot (5 PTS)\n",
       "Name: 10, dtype: object"
      ]
     },
     "execution_count": 11,
     "metadata": {},
     "output_type": "execute_result"
    }
   ],
   "source": [
    "game.loc[10]"
   ]
  },
  {
   "cell_type": "markdown",
   "metadata": {},
   "source": [
    "このゲームの11番目のアクションは、「Harrison Barnes」選手による「Pullup Jump Shot」のようです。\n",
    "\n",
    "列名を指定することで行の要素を参照することができます。<br/>\n",
    "アウェイチームの first playerを見てみましょう。"
   ]
  },
  {
   "cell_type": "code",
   "execution_count": 27,
   "metadata": {},
   "outputs": [
    {
     "data": {
      "text/plain": [
       "'Harrison Barnes'"
      ]
     },
     "execution_count": 27,
     "metadata": {},
     "output_type": "execute_result"
    }
   ],
   "source": [
    "game.loc[10]['a1']"
   ]
  },
  {
   "cell_type": "markdown",
   "metadata": {},
   "source": [
    "## 2.2 Querying Data in a Dataframe\n",
    "\n",
    "行と列からデータを抽出する方法を知ったので、次にデータへの問い合わせをします。"
   ]
  },
  {
   "cell_type": "markdown",
   "metadata": {},
   "source": [
    "例えば、先ほど参照した「Harrison Barnes」のアクション数を数えます。\n",
    "\n",
    "DataFrameを操作し、複数の行・列に対して「Harrison Barnes」の出現回数を数えるだけです。"
   ]
  },
  {
   "cell_type": "code",
   "execution_count": 31,
   "metadata": {},
   "outputs": [
    {
     "data": {
      "text/plain": [
       "354"
      ]
     },
     "execution_count": 31,
     "metadata": {},
     "output_type": "execute_result"
    }
   ],
   "source": [
    "count = 0\n",
    "labels = list(game.columns.values)\n",
    "for i in range(game.shape[0]): # gameの行数分ループ\n",
    "    for label in labels:       # gameの列数分ループ\n",
    "        if 'Harrison Barnes' in str(game.loc[i][label]):\n",
    "            count = count + 1\n",
    "            break\n",
    "            \n",
    "count"
   ]
  },
  {
   "cell_type": "markdown",
   "metadata": {},
   "source": [
    "「Harrison Barnes」がプレーしていないのに、アクションが発生しているデータがあります。<br/>\n",
    "（「a1～h5」に名前がないのに、「left」に名前がある）\n",
    "\n",
    "これは、途中交代で下がったケースですので、除きましょう。"
   ]
  },
  {
   "cell_type": "code",
   "execution_count": 18,
   "metadata": {},
   "outputs": [
    {
     "data": {
      "text/plain": [
       "349"
      ]
     },
     "execution_count": 18,
     "metadata": {},
     "output_type": "execute_result"
    }
   ],
   "source": [
    "count = 0\n",
    "labels = list(game.columns.values)\n",
    "for i in range(game.shape[0]):\n",
    "    for label in labels:\n",
    "        if 'Harrison Barnes' in str(game.loc[i]['a1':'h5']):\n",
    "            count = count + 1\n",
    "            #print(label)\n",
    "            break\n",
    "            \n",
    "count"
   ]
  },
  {
   "cell_type": "markdown",
   "metadata": {},
   "source": [
    "a1～h5には、コート上の10人のプレーヤー名が記載されています。\n",
    "\n",
    "「Counter」という機能を使って、コート上の全プレーヤーのアクション数を数えます。"
   ]
  },
  {
   "cell_type": "code",
   "execution_count": 19,
   "metadata": {},
   "outputs": [
    {
     "data": {
      "text/plain": [
       "Counter({'Harrison Barnes': 1,\n",
       "         'Draymond Green': 1,\n",
       "         'Andrew Bogut': 1,\n",
       "         'Klay Thompson': 1,\n",
       "         'Stephen Curry': 1,\n",
       "         'Richard Jefferson': 1,\n",
       "         'LeBron James': 1,\n",
       "         'Tristan Thompson': 1,\n",
       "         'J.R. Smith': 1,\n",
       "         'Kyrie Irving': 1})"
      ]
     },
     "execution_count": 19,
     "metadata": {},
     "output_type": "execute_result"
    }
   ],
   "source": [
    "from collections import Counter\n",
    "totals = Counter(list(game.loc[0, 'a1':'h5']))\n",
    "totals"
   ]
  },
  {
   "cell_type": "markdown",
   "metadata": {},
   "source": [
    "試合開始1つのアクション（0行目）から、先発の10人の名前を抽出できました。\n",
    "\n",
    "同じように、全プレーヤーのアクション数を数えます。"
   ]
  },
  {
   "cell_type": "code",
   "execution_count": 20,
   "metadata": {},
   "outputs": [
    {
     "data": {
      "text/plain": [
       "Counter({'Harrison Barnes': 349,\n",
       "         'Draymond Green': 406,\n",
       "         'Andrew Bogut': 75,\n",
       "         'Klay Thompson': 383,\n",
       "         'Stephen Curry': 399,\n",
       "         'Richard Jefferson': 243,\n",
       "         'LeBron James': 439,\n",
       "         'Tristan Thompson': 259,\n",
       "         'J.R. Smith': 417,\n",
       "         'Kyrie Irving': 417,\n",
       "         'Andre Iguodala': 374,\n",
       "         'Kevin Love': 237,\n",
       "         'Shaun Livingston': 196,\n",
       "         'Iman Shumpert': 151,\n",
       "         'James Michael McAdoo': 71,\n",
       "         'Matthew Dellavedova': 55,\n",
       "         'Channing Frye': 113,\n",
       "         'Festus Ezeli': 29,\n",
       "         'Anderson Varejao': 45,\n",
       "         'Marreese Speights': 8,\n",
       "         'Dahntay Jones': 4})"
      ]
     },
     "execution_count": 20,
     "metadata": {},
     "output_type": "execute_result"
    }
   ],
   "source": [
    "for i in range(1, game.shape[0]):\n",
    "    totals = totals + Counter(list(game.loc[i, 'a1':'h5']))\n",
    "totals "
   ]
  },
  {
   "cell_type": "markdown",
   "metadata": {},
   "source": [
    "## 2.3 Grouping\n",
    "\n",
    "Pandasのgroupbyを使って、より洗練されたグルーピングの方法を試しましょう。\n",
    "\n",
    "groupbyは辞書データ（キーと値を持つ配列）を生成します。"
   ]
  },
  {
   "cell_type": "markdown",
   "metadata": {},
   "source": [
    "基本的な例として、5対5のマッチアップの組み合わせを見てみましょう。"
   ]
  },
  {
   "cell_type": "code",
   "execution_count": 34,
   "metadata": {},
   "outputs": [
    {
     "data": {
      "text/plain": [
       "{('Draymond Green',\n",
       "  'Klay Thompson',\n",
       "  'Andre Iguodala',\n",
       "  'Shaun Livingston',\n",
       "  'Stephen Curry',\n",
       "  'LeBron James',\n",
       "  'Iman Shumpert',\n",
       "  'Matthew Dellavedova',\n",
       "  'Channing Frye',\n",
       "  'Richard Jefferson'): Int64Index([135], dtype='int64'),\n",
       " ('Draymond Green',\n",
       "  'Klay Thompson',\n",
       "  'Andre Iguodala',\n",
       "  'Stephen Curry',\n",
       "  'Festus Ezeli',\n",
       "  'LeBron James',\n",
       "  'Richard Jefferson',\n",
       "  'Kyrie Irving',\n",
       "  'J.R. Smith',\n",
       "  'Tristan Thompson'): Int64Index([162, 163, 164, 165, 166, 167, 168, 169, 170, 171], dtype='int64'),\n",
       " ('Draymond Green',\n",
       "  'Klay Thompson',\n",
       "  'Andre Iguodala',\n",
       "  'Stephen Curry',\n",
       "  'James Michael McAdoo',\n",
       "  'LeBron James',\n",
       "  'Channing Frye',\n",
       "  'Richard Jefferson',\n",
       "  'Kyrie Irving',\n",
       "  'J.R. Smith'): Int64Index([149, 150, 151, 152, 153, 154, 155, 156, 157, 158, 159, 160], dtype='int64'),\n",
       " ('Draymond Green',\n",
       "  'Klay Thompson',\n",
       "  'Andre Iguodala',\n",
       "  'Stephen Curry',\n",
       "  'James Michael McAdoo',\n",
       "  'LeBron James',\n",
       "  'Iman Shumpert',\n",
       "  'Channing Frye',\n",
       "  'Richard Jefferson',\n",
       "  'Kyrie Irving'): Int64Index([144, 145, 146, 147, 148], dtype='int64'),\n",
       " ('Draymond Green',\n",
       "  'Klay Thompson',\n",
       "  'Andre Iguodala',\n",
       "  'Stephen Curry',\n",
       "  'James Michael McAdoo',\n",
       "  'LeBron James',\n",
       "  'Iman Shumpert',\n",
       "  'Matthew Dellavedova',\n",
       "  'Channing Frye',\n",
       "  'Richard Jefferson'): Int64Index([136, 137, 138, 139, 140, 141, 142, 143], dtype='int64'),\n",
       " ('Draymond Green',\n",
       "  'Klay Thompson',\n",
       "  'Andre Iguodala',\n",
       "  'Stephen Curry',\n",
       "  'James Michael McAdoo',\n",
       "  'LeBron James',\n",
       "  'Richard Jefferson',\n",
       "  'Kyrie Irving',\n",
       "  'J.R. Smith',\n",
       "  'Tristan Thompson'): Int64Index([161], dtype='int64'),\n",
       " ('Draymond Green',\n",
       "  'Klay Thompson',\n",
       "  'Stephen Curry',\n",
       "  'Andre Iguodala',\n",
       "  'Anderson Varejao',\n",
       "  'LeBron James',\n",
       "  'J.R. Smith',\n",
       "  'Kyrie Irving',\n",
       "  'Kevin Love',\n",
       "  'Iman Shumpert'): Int64Index([291], dtype='int64'),\n",
       " ('Draymond Green',\n",
       "  'Stephen Curry',\n",
       "  'Andre Iguodala',\n",
       "  'Anderson Varejao',\n",
       "  'Shaun Livingston',\n",
       "  'LeBron James',\n",
       "  'J.R. Smith',\n",
       "  'Kyrie Irving',\n",
       "  'Kevin Love',\n",
       "  'Iman Shumpert'): Int64Index([292, 293, 294, 295, 296, 297, 298, 299, 300, 301, 302, 303, 304,\n",
       "             305, 306, 307, 308, 309, 310, 311, 312, 313, 314, 315, 316, 317,\n",
       "             318, 319, 320, 321, 322, 323, 324, 325, 326, 327, 328, 329, 330,\n",
       "             331, 332, 333],\n",
       "            dtype='int64'),\n",
       " ('Draymond Green',\n",
       "  'Stephen Curry',\n",
       "  'Andre Iguodala',\n",
       "  'Shaun Livingston',\n",
       "  'James Michael McAdoo',\n",
       "  'J.R. Smith',\n",
       "  'Kyrie Irving',\n",
       "  'Kevin Love',\n",
       "  'Iman Shumpert',\n",
       "  'Tristan Thompson'): Int64Index([76], dtype='int64'),\n",
       " ('Draymond Green',\n",
       "  'Stephen Curry',\n",
       "  'Andre Iguodala',\n",
       "  'Shaun Livingston',\n",
       "  'James Michael McAdoo',\n",
       "  'LeBron James',\n",
       "  'J.R. Smith',\n",
       "  'Kyrie Irving',\n",
       "  'Kevin Love',\n",
       "  'Iman Shumpert'): Int64Index([70, 71, 72, 73, 74, 75], dtype='int64'),\n",
       " ('Harrison Barnes',\n",
       "  'Draymond Green',\n",
       "  'Andrew Bogut',\n",
       "  'Klay Thompson',\n",
       "  'Stephen Curry',\n",
       "  'Richard Jefferson',\n",
       "  'LeBron James',\n",
       "  'Tristan Thompson',\n",
       "  'J.R. Smith',\n",
       "  'Kyrie Irving'): Int64Index([  0,   1,   2,   3,   4,   5,   6,   7,   8,   9,  10,  11,  12,\n",
       "              13,  14,  15,  16,  17,  18,  19,  20,  21,  22,  23,  24,  25,\n",
       "              26,  27,  28,  29,  30,  31,  32,  33, 232, 233, 234, 235, 236,\n",
       "             237, 238, 239, 240, 241, 242, 243, 244, 245, 246, 247, 248, 249,\n",
       "             250, 251, 252, 253, 254, 255, 256, 257, 258, 259, 260, 261, 262,\n",
       "             263, 264, 265, 266, 267, 268, 269, 270, 271, 272],\n",
       "            dtype='int64'),\n",
       " ('Harrison Barnes',\n",
       "  'Draymond Green',\n",
       "  'Klay Thompson',\n",
       "  'Andre Iguodala',\n",
       "  'Shaun Livingston',\n",
       "  'LeBron James',\n",
       "  'Iman Shumpert',\n",
       "  'Matthew Dellavedova',\n",
       "  'Channing Frye',\n",
       "  'Richard Jefferson'): Int64Index([134], dtype='int64'),\n",
       " ('Harrison Barnes',\n",
       "  'Draymond Green',\n",
       "  'Klay Thompson',\n",
       "  'Andre Iguodala',\n",
       "  'Shaun Livingston',\n",
       "  'LeBron James',\n",
       "  'Kevin Love',\n",
       "  'Iman Shumpert',\n",
       "  'Matthew Dellavedova',\n",
       "  'Channing Frye'): Int64Index([104, 105, 106, 107, 108, 109, 110, 111, 112, 113, 114, 115, 116,\n",
       "             117, 118, 119, 120, 121, 122, 123, 124, 125, 126, 127, 128, 129,\n",
       "             130, 131, 132, 133],\n",
       "            dtype='int64'),\n",
       " ('Harrison Barnes',\n",
       "  'Draymond Green',\n",
       "  'Klay Thompson',\n",
       "  'Stephen Curry',\n",
       "  'Andre Iguodala',\n",
       "  'LeBron James',\n",
       "  'J.R. Smith',\n",
       "  'Kyrie Irving',\n",
       "  'Kevin Love',\n",
       "  'Iman Shumpert'): Int64Index([290], dtype='int64'),\n",
       " ('Harrison Barnes',\n",
       "  'Draymond Green',\n",
       "  'Klay Thompson',\n",
       "  'Stephen Curry',\n",
       "  'Andre Iguodala',\n",
       "  'LeBron James',\n",
       "  'Tristan Thompson',\n",
       "  'J.R. Smith',\n",
       "  'Kyrie Irving',\n",
       "  'Kevin Love'): Int64Index([284, 285, 286, 287, 288, 289], dtype='int64'),\n",
       " ('Harrison Barnes',\n",
       "  'Draymond Green',\n",
       "  'Klay Thompson',\n",
       "  'Stephen Curry',\n",
       "  'Andre Iguodala',\n",
       "  'Richard Jefferson',\n",
       "  'LeBron James',\n",
       "  'J.R. Smith',\n",
       "  'Kyrie Irving',\n",
       "  'Kevin Love'): Int64Index([52, 53, 54], dtype='int64'),\n",
       " ('Harrison Barnes',\n",
       "  'Draymond Green',\n",
       "  'Klay Thompson',\n",
       "  'Stephen Curry',\n",
       "  'Andre Iguodala',\n",
       "  'Richard Jefferson',\n",
       "  'LeBron James',\n",
       "  'Tristan Thompson',\n",
       "  'J.R. Smith',\n",
       "  'Kyrie Irving'): Int64Index([ 34,  35,  36,  37,  38,  39,  40,  41,  42,  43,  44,  45,  46,\n",
       "              47,  48,  49,  50,  51, 273, 274, 275, 276, 277, 278, 279, 280,\n",
       "             281, 282, 283],\n",
       "            dtype='int64'),\n",
       " ('Harrison Barnes',\n",
       "  'Draymond Green',\n",
       "  'Stephen Curry',\n",
       "  'Andre Iguodala',\n",
       "  'Shaun Livingston',\n",
       "  'LeBron James',\n",
       "  'J.R. Smith',\n",
       "  'Kyrie Irving',\n",
       "  'Kevin Love',\n",
       "  'Iman Shumpert'): Int64Index([69], dtype='int64'),\n",
       " ('Harrison Barnes',\n",
       "  'Draymond Green',\n",
       "  'Stephen Curry',\n",
       "  'Andre Iguodala',\n",
       "  'Shaun Livingston',\n",
       "  'Richard Jefferson',\n",
       "  'LeBron James',\n",
       "  'J.R. Smith',\n",
       "  'Kyrie Irving',\n",
       "  'Kevin Love'): Int64Index([55, 56, 57, 58, 59, 60, 61, 62, 63, 64, 65, 66, 67, 68], dtype='int64'),\n",
       " ('Harrison Barnes',\n",
       "  'Klay Thompson',\n",
       "  'Andre Iguodala',\n",
       "  'Draymond Green',\n",
       "  'Shaun Livingston',\n",
       "  'LeBron James',\n",
       "  'J.R. Smith',\n",
       "  'Kyrie Irving',\n",
       "  'Richard Jefferson',\n",
       "  'Channing Frye'): Int64Index([438, 439, 440], dtype='int64'),\n",
       " ('Harrison Barnes',\n",
       "  'Klay Thompson',\n",
       "  'Andre Iguodala',\n",
       "  'Draymond Green',\n",
       "  'Stephen Curry',\n",
       "  'LeBron James',\n",
       "  'J.R. Smith',\n",
       "  'Kyrie Irving',\n",
       "  'Kevin Love',\n",
       "  'Tristan Thompson'): Int64Index([376, 377, 378, 379, 380, 381, 382, 383, 384, 385, 386, 387, 388,\n",
       "             389, 390, 391, 392, 393, 394],\n",
       "            dtype='int64'),\n",
       " ('Harrison Barnes',\n",
       "  'Klay Thompson',\n",
       "  'Andre Iguodala',\n",
       "  'Draymond Green',\n",
       "  'Stephen Curry',\n",
       "  'LeBron James',\n",
       "  'J.R. Smith',\n",
       "  'Kyrie Irving',\n",
       "  'Richard Jefferson',\n",
       "  'Channing Frye'): Int64Index([408, 409, 410, 411, 412, 413, 414, 415, 416, 417, 418, 419, 420,\n",
       "             421, 422, 423, 424, 425, 426, 427, 428, 429, 430, 431, 432, 433,\n",
       "             434, 435, 436, 437],\n",
       "            dtype='int64'),\n",
       " ('Harrison Barnes',\n",
       "  'Klay Thompson',\n",
       "  'Andre Iguodala',\n",
       "  'Draymond Green',\n",
       "  'Stephen Curry',\n",
       "  'LeBron James',\n",
       "  'J.R. Smith',\n",
       "  'Kyrie Irving',\n",
       "  'Tristan Thompson',\n",
       "  'Richard Jefferson'): Int64Index([395, 396, 397, 398, 399, 400, 401, 402, 403, 404, 405, 406, 407], dtype='int64'),\n",
       " ('Harrison Barnes',\n",
       "  'Klay Thompson',\n",
       "  'Andre Iguodala',\n",
       "  'Shaun Livingston',\n",
       "  'Draymond Green',\n",
       "  'LeBron James',\n",
       "  'J.R. Smith',\n",
       "  'Kyrie Irving',\n",
       "  'Kevin Love',\n",
       "  'Tristan Thompson'): Int64Index([362, 363, 364, 365, 366, 367, 368, 369, 370, 371, 372, 373, 374,\n",
       "             375],\n",
       "            dtype='int64'),\n",
       " ('Harrison Barnes',\n",
       "  'Klay Thompson',\n",
       "  'Andre Iguodala',\n",
       "  'Shaun Livingston',\n",
       "  'James Michael McAdoo',\n",
       "  'LeBron James',\n",
       "  'J.R. Smith',\n",
       "  'Kyrie Irving',\n",
       "  'Kevin Love',\n",
       "  'Iman Shumpert'): Int64Index([342, 343, 344, 345, 346, 347, 348, 349, 350, 351, 352, 353, 354,\n",
       "             355, 356, 357, 358, 359, 360],\n",
       "            dtype='int64'),\n",
       " ('Harrison Barnes',\n",
       "  'Klay Thompson',\n",
       "  'Andre Iguodala',\n",
       "  'Shaun Livingston',\n",
       "  'James Michael McAdoo',\n",
       "  'LeBron James',\n",
       "  'J.R. Smith',\n",
       "  'Kyrie Irving',\n",
       "  'Kevin Love',\n",
       "  'Tristan Thompson'): Int64Index([361], dtype='int64'),\n",
       " ('Klay Thompson',\n",
       "  'Andre Iguodala',\n",
       "  'Draymond Green',\n",
       "  'Shaun Livingston',\n",
       "  'Stephen Curry',\n",
       "  'LeBron James',\n",
       "  'J.R. Smith',\n",
       "  'Kyrie Irving',\n",
       "  'Channing Frye',\n",
       "  'Dahntay Jones'): Int64Index([463, 464, 465, 466], dtype='int64'),\n",
       " ('Klay Thompson',\n",
       "  'Andre Iguodala',\n",
       "  'Draymond Green',\n",
       "  'Shaun Livingston',\n",
       "  'Stephen Curry',\n",
       "  'LeBron James',\n",
       "  'J.R. Smith',\n",
       "  'Kyrie Irving',\n",
       "  'Richard Jefferson',\n",
       "  'Channing Frye'): Int64Index([441, 442, 443, 447, 448, 449, 450, 451, 452, 453, 454, 455, 456,\n",
       "             457, 458, 459, 460, 461, 462],\n",
       "            dtype='int64'),\n",
       " ('Klay Thompson',\n",
       "  'Andre Iguodala',\n",
       "  'Draymond Green',\n",
       "  'Shaun Livingston',\n",
       "  'Stephen Curry',\n",
       "  'LeBron James',\n",
       "  'J.R. Smith',\n",
       "  'Kyrie Irving',\n",
       "  'Richard Jefferson',\n",
       "  'Tristan Thompson'): Int64Index([444, 445, 446], dtype='int64'),\n",
       " ('Klay Thompson',\n",
       "  'Andre Iguodala',\n",
       "  'Stephen Curry',\n",
       "  'Festus Ezeli',\n",
       "  'Harrison Barnes',\n",
       "  'LeBron James',\n",
       "  'Richard Jefferson',\n",
       "  'Kyrie Irving',\n",
       "  'J.R. Smith',\n",
       "  'Tristan Thompson'): Int64Index([172], dtype='int64'),\n",
       " ('Klay Thompson',\n",
       "  'Stephen Curry',\n",
       "  'Draymond Green',\n",
       "  'Harrison Barnes',\n",
       "  'Andre Iguodala',\n",
       "  'LeBron James',\n",
       "  'Kyrie Irving',\n",
       "  'J.R. Smith',\n",
       "  'Tristan Thompson',\n",
       "  'Kevin Love'): Int64Index([191, 192, 193, 194, 195, 196, 197, 198, 199, 200, 201, 202, 203,\n",
       "             204, 205, 206, 207, 208, 209, 210, 211, 212, 213, 214, 215, 216,\n",
       "             217, 218, 219, 220, 221, 222, 223, 224, 225, 226, 227, 228, 229,\n",
       "             230, 231],\n",
       "            dtype='int64'),\n",
       " ('Klay Thompson',\n",
       "  'Stephen Curry',\n",
       "  'Festus Ezeli',\n",
       "  'Draymond Green',\n",
       "  'Harrison Barnes',\n",
       "  'LeBron James',\n",
       "  'Kyrie Irving',\n",
       "  'J.R. Smith',\n",
       "  'Tristan Thompson',\n",
       "  'Kevin Love'): Int64Index([190], dtype='int64'),\n",
       " ('Klay Thompson',\n",
       "  'Stephen Curry',\n",
       "  'Festus Ezeli',\n",
       "  'Harrison Barnes',\n",
       "  'Shaun Livingston',\n",
       "  'LeBron James',\n",
       "  'Kyrie Irving',\n",
       "  'J.R. Smith',\n",
       "  'Tristan Thompson',\n",
       "  'Kevin Love'): Int64Index([181, 182, 183, 184, 185, 186], dtype='int64'),\n",
       " ('Klay Thompson',\n",
       "  'Stephen Curry',\n",
       "  'Festus Ezeli',\n",
       "  'Harrison Barnes',\n",
       "  'Shaun Livingston',\n",
       "  'LeBron James',\n",
       "  'Richard Jefferson',\n",
       "  'Kyrie Irving',\n",
       "  'J.R. Smith',\n",
       "  'Tristan Thompson'): Int64Index([173, 174, 175, 176, 177, 178, 179, 180], dtype='int64'),\n",
       " ('Klay Thompson',\n",
       "  'Stephen Curry',\n",
       "  'Festus Ezeli',\n",
       "  'Shaun Livingston',\n",
       "  'Draymond Green',\n",
       "  'LeBron James',\n",
       "  'Kyrie Irving',\n",
       "  'J.R. Smith',\n",
       "  'Tristan Thompson',\n",
       "  'Kevin Love'): Int64Index([187, 188, 189], dtype='int64'),\n",
       " ('Stephen Curry',\n",
       "  'Andre Iguodala',\n",
       "  'Anderson Varejao',\n",
       "  'Marreese Speights',\n",
       "  'Klay Thompson',\n",
       "  'LeBron James',\n",
       "  'J.R. Smith',\n",
       "  'Kyrie Irving',\n",
       "  'Kevin Love',\n",
       "  'Iman Shumpert'): Int64Index([335], dtype='int64'),\n",
       " ('Stephen Curry',\n",
       "  'Andre Iguodala',\n",
       "  'Anderson Varejao',\n",
       "  'Shaun Livingston',\n",
       "  'Marreese Speights',\n",
       "  'LeBron James',\n",
       "  'J.R. Smith',\n",
       "  'Kyrie Irving',\n",
       "  'Kevin Love',\n",
       "  'Iman Shumpert'): Int64Index([334], dtype='int64'),\n",
       " ('Stephen Curry',\n",
       "  'Andre Iguodala',\n",
       "  'Harrison Barnes',\n",
       "  'Draymond Green',\n",
       "  'Klay Thompson',\n",
       "  'J.R. Smith',\n",
       "  'Iman Shumpert',\n",
       "  'Tristan Thompson',\n",
       "  'Matthew Dellavedova',\n",
       "  'Richard Jefferson'): Int64Index([97, 98, 99, 100, 101, 102, 103], dtype='int64'),\n",
       " ('Stephen Curry',\n",
       "  'Andre Iguodala',\n",
       "  'Harrison Barnes',\n",
       "  'Draymond Green',\n",
       "  'Klay Thompson',\n",
       "  'J.R. Smith',\n",
       "  'Kevin Love',\n",
       "  'Iman Shumpert',\n",
       "  'Tristan Thompson',\n",
       "  'Matthew Dellavedova'): Int64Index([96], dtype='int64'),\n",
       " ('Stephen Curry',\n",
       "  'Andre Iguodala',\n",
       "  'Marreese Speights',\n",
       "  'Klay Thompson',\n",
       "  'Harrison Barnes',\n",
       "  'LeBron James',\n",
       "  'J.R. Smith',\n",
       "  'Kyrie Irving',\n",
       "  'Kevin Love',\n",
       "  'Iman Shumpert'): Int64Index([336], dtype='int64'),\n",
       " ('Stephen Curry',\n",
       "  'Andre Iguodala',\n",
       "  'Marreese Speights',\n",
       "  'Klay Thompson',\n",
       "  'Harrison Barnes',\n",
       "  'LeBron James',\n",
       "  'Kyrie Irving',\n",
       "  'Kevin Love',\n",
       "  'Iman Shumpert',\n",
       "  'Matthew Dellavedova'): Int64Index([337, 338, 339, 340, 341], dtype='int64'),\n",
       " ('Stephen Curry',\n",
       "  'Andre Iguodala',\n",
       "  'Shaun Livingston',\n",
       "  'Harrison Barnes',\n",
       "  'Draymond Green',\n",
       "  'J.R. Smith',\n",
       "  'Kevin Love',\n",
       "  'Iman Shumpert',\n",
       "  'Tristan Thompson',\n",
       "  'Matthew Dellavedova'): Int64Index([95], dtype='int64'),\n",
       " ('Stephen Curry',\n",
       "  'Andre Iguodala',\n",
       "  'Shaun Livingston',\n",
       "  'James Michael McAdoo',\n",
       "  'Harrison Barnes',\n",
       "  'J.R. Smith',\n",
       "  'Kevin Love',\n",
       "  'Iman Shumpert',\n",
       "  'Tristan Thompson',\n",
       "  'Matthew Dellavedova'): Int64Index([94], dtype='int64'),\n",
       " ('Stephen Curry',\n",
       "  'Andre Iguodala',\n",
       "  'Shaun Livingston',\n",
       "  'James Michael McAdoo',\n",
       "  'Harrison Barnes',\n",
       "  'J.R. Smith',\n",
       "  'Kyrie Irving',\n",
       "  'Kevin Love',\n",
       "  'Iman Shumpert',\n",
       "  'Tristan Thompson'): Int64Index([77, 78, 79, 80, 81, 82, 83, 84, 85, 86, 87, 88, 89, 90, 91, 92,\n",
       "             93],\n",
       "            dtype='int64')}"
      ]
     },
     "execution_count": 34,
     "metadata": {},
     "output_type": "execute_result"
    }
   ],
   "source": [
    "onCourt = game.groupby(['a1','a2','a3','a4','a5','h1','h2','h3','h4','h5'])\n",
    "onCourt.groups"
   ]
  },
  {
   "cell_type": "markdown",
   "metadata": {},
   "source": [
    "最初の組み合わせは、\n",
    "\n",
    "'Draymond Green', 'Klay Thompson', 'Andre Iguodala', 'Shaun Livingston', 'Stephen Curry', <br/>\n",
    "'LeBron James', 'Iman Shumpert', 'Matthew Dellavedova', 'Channing Frye', 'Richard Jefferson' <br/>\n",
    "\n",
    "であり、この組み合わせは135番目のみで発生しています。\n",
    "\n",
    "Pythonの辞書データはキー項目をソートしません。<br/>\n",
    "そのため、並び順が違う同じ組み合わせを数えてしまっているかも。\n",
    "\n",
    "a1～h5を a1～a5に変更し、a1～a5の組み合わせの出現回数を数えてみよう。<br/>\n",
    "（任意のホームプレーヤーを指定することで、件数を数えられる。ここでは「h4」とした）"
   ]
  },
  {
   "cell_type": "code",
   "execution_count": 39,
   "metadata": {},
   "outputs": [
    {
     "data": {
      "text/plain": [
       "a1               a2              a3                 a4                    a5                  \n",
       "Draymond Green   Klay Thompson   Andre Iguodala     Shaun Livingston      Stephen Curry            1\n",
       "                                                    Stephen Curry         Festus Ezeli            10\n",
       "                                                                          James Michael McAdoo    26\n",
       "                                 Stephen Curry      Andre Iguodala        Anderson Varejao         1\n",
       "                 Stephen Curry   Andre Iguodala     Anderson Varejao      Shaun Livingston        42\n",
       "                                                    Shaun Livingston      James Michael McAdoo     7\n",
       "Harrison Barnes  Draymond Green  Andrew Bogut       Klay Thompson         Stephen Curry           75\n",
       "                                 Klay Thompson      Andre Iguodala        Shaun Livingston        31\n",
       "                                                    Stephen Curry         Andre Iguodala          39\n",
       "                                 Stephen Curry      Andre Iguodala        Shaun Livingston        15\n",
       "                 Klay Thompson   Andre Iguodala     Draymond Green        Shaun Livingston         3\n",
       "                                                                          Stephen Curry           62\n",
       "                                                    Shaun Livingston      Draymond Green          14\n",
       "                                                                          James Michael McAdoo    20\n",
       "Klay Thompson    Andre Iguodala  Draymond Green     Shaun Livingston      Stephen Curry           26\n",
       "                                 Stephen Curry      Festus Ezeli          Harrison Barnes          1\n",
       "                 Stephen Curry   Draymond Green     Harrison Barnes       Andre Iguodala          41\n",
       "                                 Festus Ezeli       Draymond Green        Harrison Barnes          1\n",
       "                                                    Harrison Barnes       Shaun Livingston        14\n",
       "                                                    Shaun Livingston      Draymond Green           3\n",
       "Stephen Curry    Andre Iguodala  Anderson Varejao   Marreese Speights     Klay Thompson            1\n",
       "                                                    Shaun Livingston      Marreese Speights        1\n",
       "                                 Harrison Barnes    Draymond Green        Klay Thompson            8\n",
       "                                 Marreese Speights  Klay Thompson         Harrison Barnes          6\n",
       "                                 Shaun Livingston   Harrison Barnes       Draymond Green           1\n",
       "                                                    James Michael McAdoo  Harrison Barnes         18\n",
       "Name: h4, dtype: int64"
      ]
     },
     "execution_count": 39,
     "metadata": {},
     "output_type": "execute_result"
    }
   ],
   "source": [
    "onCourt = game.groupby(['a1','a2','a3','a4','a5'])\n",
    "onCourt['h4'].count()"
   ]
  },
  {
   "cell_type": "markdown",
   "metadata": {},
   "source": [
    "この組み合わせを見てみよう。\n",
    "組み合わせは同じですが、並び順が違うため、別々に数えられてしまいました。\n",
    "\n",
    "Draymond Green, Klay Thompson,  Andre Iguodala, Shaun Livingston, Stephen Curry, 1 <br/>\n",
    "Klay Thompson , Andre Iguodala, Draymond Green, Shaun Livingston, Stephen Curry, 26 <br/>\n",
    "\n",
    "\n",
    "組み合わせの数を算出するには、次のやり方を試してみましょう。\n",
    "\n",
    "1. a1～a5列の値の配列を抽出\n",
    "1. 配列をソート\n",
    "1. 新しいDataFrameを構築\n",
    "1. オリジナルDataFrameのa1～a5をソート版DataFrameのa1～a5で置き換える\n"
   ]
  },
  {
   "cell_type": "code",
   "execution_count": 43,
   "metadata": {},
   "outputs": [
    {
     "data": {
      "text/plain": [
       "a1                a2               a3                    a4                 a5              \n",
       "Anderson Varejao  Andre Iguodala   Draymond Green        Klay Thompson      Stephen Curry         1\n",
       "                                                         Shaun Livingston   Stephen Curry        42\n",
       "                                   Klay Thompson         Marreese Speights  Stephen Curry         1\n",
       "                                   Marreese Speights     Shaun Livingston   Stephen Curry         1\n",
       "Andre Iguodala    Draymond Green   Festus Ezeli          Klay Thompson      Stephen Curry        10\n",
       "                                   Harrison Barnes       Klay Thompson      Shaun Livingston     48\n",
       "                                                                            Stephen Curry       150\n",
       "                                                         Shaun Livingston   Stephen Curry        16\n",
       "                                   James Michael McAdoo  Klay Thompson      Stephen Curry        26\n",
       "                                                         Shaun Livingston   Stephen Curry         7\n",
       "                                   Klay Thompson         Shaun Livingston   Stephen Curry        27\n",
       "                  Festus Ezeli     Harrison Barnes       Klay Thompson      Stephen Curry         1\n",
       "                  Harrison Barnes  James Michael McAdoo  Klay Thompson      Shaun Livingston     20\n",
       "                                                         Shaun Livingston   Stephen Curry        18\n",
       "                                   Klay Thompson         Marreese Speights  Stephen Curry         6\n",
       "Andrew Bogut      Draymond Green   Harrison Barnes       Klay Thompson      Stephen Curry        75\n",
       "Draymond Green    Festus Ezeli     Harrison Barnes       Klay Thompson      Stephen Curry         1\n",
       "                                   Klay Thompson         Shaun Livingston   Stephen Curry         3\n",
       "Festus Ezeli      Harrison Barnes  Klay Thompson         Shaun Livingston   Stephen Curry        14\n",
       "Name: h4, dtype: int64"
      ]
     },
     "execution_count": 43,
     "metadata": {},
     "output_type": "execute_result"
    }
   ],
   "source": [
    "a = game.loc[0:, 'a1':'a5'].values\n",
    "a.sort(axis=1) # 行毎にそれぞれの行の並びをソート\n",
    "\n",
    "awaysort = pd.DataFrame(a, game.index, list(game.columns.values)[3:8])\n",
    "game.loc[0:, 'a1':'a5'] = awaysort.loc[0:, 'a1':'a5']\n",
    "onCourt = game.groupby(['a1','a2','a3','a4','a5'])\n",
    "onCourt['h4'].count()"
   ]
  },
  {
   "cell_type": "markdown",
   "metadata": {},
   "source": [
    "アウェイチームの組み合わせに対して、<br/>\n",
    "ホームチームがどのようなローテーションを組んでいたか同じように見てみます。"
   ]
  },
  {
   "cell_type": "code",
   "execution_count": 26,
   "metadata": {},
   "outputs": [
    {
     "data": {
      "text/plain": [
       "44"
      ]
     },
     "execution_count": 26,
     "metadata": {},
     "output_type": "execute_result"
    }
   ],
   "source": [
    "onCourt = game.groupby(['a1','a2','a3','a4','a5','h1','h2','h3','h4','h5'])\n",
    "onCourt['h4'].count()\n",
    "len(onCourt['h4'].count())"
   ]
  },
  {
   "cell_type": "markdown",
   "metadata": {},
   "source": [
    "合計44パターンのローテーションで対戦していたことが分かりました。"
   ]
  },
  {
   "cell_type": "markdown",
   "metadata": {},
   "source": [
    "## 2.4 Counting Statistics\n",
    "\n",
    "groupbyとDataFrameを駆使して、スタッツを集計してみましょう。"
   ]
  },
  {
   "cell_type": "markdown",
   "metadata": {},
   "source": [
    "例えば、アシストの数"
   ]
  },
  {
   "cell_type": "code",
   "execution_count": 45,
   "metadata": {},
   "outputs": [
    {
     "data": {
      "text/plain": [
       "assist\n",
       "Andre Iguodala          7\n",
       "Andrew Bogut            1\n",
       "Draymond Green          4\n",
       "Harrison Barnes         2\n",
       "J.R. Smith              1\n",
       "James Michael McAdoo    1\n",
       "Klay Thompson           1\n",
       "Kyrie Irving            4\n",
       "LeBron James            9\n",
       "Matthew Dellavedova     1\n",
       "Shaun Livingston        1\n",
       "Stephen Curry           6\n",
       "Name: assist, dtype: int64"
      ]
     },
     "execution_count": 45,
     "metadata": {},
     "output_type": "execute_result"
    }
   ],
   "source": [
    "assists = game.groupby('assist')\n",
    "assists['assist'].count()"
   ]
  },
  {
   "cell_type": "markdown",
   "metadata": {},
   "source": [
    "平均ショット距離\n",
    "\n",
    "ショット距離…シュートを打った際の、プレーヤーとリングとの距離"
   ]
  },
  {
   "cell_type": "code",
   "execution_count": 46,
   "metadata": {},
   "outputs": [
    {
     "data": {
      "text/plain": [
       "assist\n",
       "Andre Iguodala          14.285714\n",
       "Andrew Bogut            23.000000\n",
       "Draymond Green          16.500000\n",
       "Harrison Barnes         21.500000\n",
       "J.R. Smith              24.000000\n",
       "James Michael McAdoo     8.000000\n",
       "Klay Thompson           25.000000\n",
       "Kyrie Irving             9.250000\n",
       "LeBron James            13.222222\n",
       "Matthew Dellavedova     14.000000\n",
       "Shaun Livingston        25.000000\n",
       "Stephen Curry           16.666667\n",
       "Name: shot_distance, dtype: float64"
      ]
     },
     "execution_count": 46,
     "metadata": {},
     "output_type": "execute_result"
    }
   ],
   "source": [
    "assists['shot_distance'].mean()"
   ]
  },
  {
   "cell_type": "markdown",
   "metadata": {},
   "source": [
    "フィールドゴールの成功率"
   ]
  },
  {
   "cell_type": "markdown",
   "metadata": {},
   "source": [
    "フィールドゴール成功数"
   ]
  },
  {
   "cell_type": "code",
   "execution_count": 50,
   "metadata": {},
   "outputs": [
    {
     "data": {
      "text/plain": [
       "player\n",
       "Andre Iguodala           4\n",
       "Draymond Green           2\n",
       "Harrison Barnes          5\n",
       "Iman Shumpert            1\n",
       "J.R. Smith               3\n",
       "James Michael McAdoo     1\n",
       "Kevin Love               3\n",
       "Klay Thompson            7\n",
       "Kyrie Irving            14\n",
       "LeBron James            11\n",
       "Richard Jefferson        1\n",
       "Shaun Livingston         3\n",
       "Stephen Curry           11\n",
       "Tristan Thompson         5\n",
       "Name: player, dtype: int64"
      ]
     },
     "execution_count": 50,
     "metadata": {},
     "output_type": "execute_result"
    }
   ],
   "source": [
    "events = game.groupby(['event_type'])\n",
    "shots = game.iloc[events.groups['shot']].groupby('player')\n",
    "shots['player'].count()"
   ]
  },
  {
   "cell_type": "markdown",
   "metadata": {},
   "source": [
    "フィールドゴール失敗数"
   ]
  },
  {
   "cell_type": "code",
   "execution_count": 51,
   "metadata": {},
   "outputs": [
    {
     "data": {
      "text/plain": [
       "player\n",
       "Anderson Varejao        1\n",
       "Andre Iguodala          8\n",
       "Channing Frye           1\n",
       "Draymond Green          7\n",
       "Harrison Barnes         6\n",
       "Iman Shumpert           4\n",
       "J.R. Smith              7\n",
       "Kevin Love              3\n",
       "Klay Thompson           7\n",
       "Kyrie Irving           14\n",
       "LeBron James           10\n",
       "Matthew Dellavedova     1\n",
       "Richard Jefferson       1\n",
       "Shaun Livingston        5\n",
       "Stephen Curry          14\n",
       "Tristan Thompson        2\n",
       "Name: player, dtype: int64"
      ]
     },
     "execution_count": 51,
     "metadata": {},
     "output_type": "execute_result"
    }
   ],
   "source": [
    "misses = game.iloc[events.groups['miss']].groupby('player')\n",
    "misses['player'].count()"
   ]
  },
  {
   "cell_type": "markdown",
   "metadata": {},
   "source": [
    "フィールドゴールパーセンテージ（FGP）＝シュートの成功数／シュート本数"
   ]
  },
  {
   "cell_type": "code",
   "execution_count": 52,
   "metadata": {},
   "outputs": [
    {
     "data": {
      "text/plain": [
       "player\n",
       "Anderson Varejao             NaN\n",
       "Andre Iguodala          0.333333\n",
       "Channing Frye                NaN\n",
       "Draymond Green          0.222222\n",
       "Harrison Barnes         0.454545\n",
       "Iman Shumpert           0.200000\n",
       "J.R. Smith              0.300000\n",
       "James Michael McAdoo         NaN\n",
       "Kevin Love              0.500000\n",
       "Klay Thompson           0.500000\n",
       "Kyrie Irving            0.500000\n",
       "LeBron James            0.523810\n",
       "Matthew Dellavedova          NaN\n",
       "Richard Jefferson       0.500000\n",
       "Shaun Livingston        0.375000\n",
       "Stephen Curry           0.440000\n",
       "Tristan Thompson        0.714286\n",
       "Name: player, dtype: float64"
      ]
     },
     "execution_count": 52,
     "metadata": {},
     "output_type": "execute_result"
    }
   ],
   "source": [
    "S = shots['player'].count()\n",
    "M = misses['player'].count()\n",
    "FGP = S/(S+M)\n",
    "FGP"
   ]
  },
  {
   "cell_type": "markdown",
   "metadata": {},
   "source": [
    "FGPを算出できない選手は「NaN」と表示されてしまいました。<br/>\n",
    "これを修正するために「fillna」関数を利用します。\n",
    "\n",
    "まずシュート成功数と失敗数のDataFrameを連結します。"
   ]
  },
  {
   "cell_type": "code",
   "execution_count": 58,
   "metadata": {},
   "outputs": [
    {
     "data": {
      "text/html": [
       "<div>\n",
       "<style scoped>\n",
       "    .dataframe tbody tr th:only-of-type {\n",
       "        vertical-align: middle;\n",
       "    }\n",
       "\n",
       "    .dataframe tbody tr th {\n",
       "        vertical-align: top;\n",
       "    }\n",
       "\n",
       "    .dataframe thead th {\n",
       "        text-align: right;\n",
       "    }\n",
       "</style>\n",
       "<table border=\"1\" class=\"dataframe\">\n",
       "  <thead>\n",
       "    <tr style=\"text-align: right;\">\n",
       "      <th></th>\n",
       "      <th>shot</th>\n",
       "      <th>miss</th>\n",
       "    </tr>\n",
       "  </thead>\n",
       "  <tbody>\n",
       "    <tr>\n",
       "      <th>Anderson Varejao</th>\n",
       "      <td>NaN</td>\n",
       "      <td>1.0</td>\n",
       "    </tr>\n",
       "    <tr>\n",
       "      <th>Andre Iguodala</th>\n",
       "      <td>4.0</td>\n",
       "      <td>8.0</td>\n",
       "    </tr>\n",
       "    <tr>\n",
       "      <th>Channing Frye</th>\n",
       "      <td>NaN</td>\n",
       "      <td>1.0</td>\n",
       "    </tr>\n",
       "    <tr>\n",
       "      <th>Draymond Green</th>\n",
       "      <td>2.0</td>\n",
       "      <td>7.0</td>\n",
       "    </tr>\n",
       "    <tr>\n",
       "      <th>Harrison Barnes</th>\n",
       "      <td>5.0</td>\n",
       "      <td>6.0</td>\n",
       "    </tr>\n",
       "    <tr>\n",
       "      <th>Iman Shumpert</th>\n",
       "      <td>1.0</td>\n",
       "      <td>4.0</td>\n",
       "    </tr>\n",
       "    <tr>\n",
       "      <th>J.R. Smith</th>\n",
       "      <td>3.0</td>\n",
       "      <td>7.0</td>\n",
       "    </tr>\n",
       "    <tr>\n",
       "      <th>James Michael McAdoo</th>\n",
       "      <td>1.0</td>\n",
       "      <td>NaN</td>\n",
       "    </tr>\n",
       "    <tr>\n",
       "      <th>Kevin Love</th>\n",
       "      <td>3.0</td>\n",
       "      <td>3.0</td>\n",
       "    </tr>\n",
       "    <tr>\n",
       "      <th>Klay Thompson</th>\n",
       "      <td>7.0</td>\n",
       "      <td>7.0</td>\n",
       "    </tr>\n",
       "    <tr>\n",
       "      <th>Kyrie Irving</th>\n",
       "      <td>14.0</td>\n",
       "      <td>14.0</td>\n",
       "    </tr>\n",
       "    <tr>\n",
       "      <th>LeBron James</th>\n",
       "      <td>11.0</td>\n",
       "      <td>10.0</td>\n",
       "    </tr>\n",
       "    <tr>\n",
       "      <th>Matthew Dellavedova</th>\n",
       "      <td>NaN</td>\n",
       "      <td>1.0</td>\n",
       "    </tr>\n",
       "    <tr>\n",
       "      <th>Richard Jefferson</th>\n",
       "      <td>1.0</td>\n",
       "      <td>1.0</td>\n",
       "    </tr>\n",
       "    <tr>\n",
       "      <th>Shaun Livingston</th>\n",
       "      <td>3.0</td>\n",
       "      <td>5.0</td>\n",
       "    </tr>\n",
       "    <tr>\n",
       "      <th>Stephen Curry</th>\n",
       "      <td>11.0</td>\n",
       "      <td>14.0</td>\n",
       "    </tr>\n",
       "    <tr>\n",
       "      <th>Tristan Thompson</th>\n",
       "      <td>5.0</td>\n",
       "      <td>2.0</td>\n",
       "    </tr>\n",
       "  </tbody>\n",
       "</table>\n",
       "</div>"
      ],
      "text/plain": [
       "                      shot  miss\n",
       "Anderson Varejao       NaN   1.0\n",
       "Andre Iguodala         4.0   8.0\n",
       "Channing Frye          NaN   1.0\n",
       "Draymond Green         2.0   7.0\n",
       "Harrison Barnes        5.0   6.0\n",
       "Iman Shumpert          1.0   4.0\n",
       "J.R. Smith             3.0   7.0\n",
       "James Michael McAdoo   1.0   NaN\n",
       "Kevin Love             3.0   3.0\n",
       "Klay Thompson          7.0   7.0\n",
       "Kyrie Irving          14.0  14.0\n",
       "LeBron James          11.0  10.0\n",
       "Matthew Dellavedova    NaN   1.0\n",
       "Richard Jefferson      1.0   1.0\n",
       "Shaun Livingston       3.0   5.0\n",
       "Stephen Curry         11.0  14.0\n",
       "Tristan Thompson       5.0   2.0"
      ]
     },
     "execution_count": 58,
     "metadata": {},
     "output_type": "execute_result"
    }
   ],
   "source": [
    "S.name = 'shot'\n",
    "M.name = 'miss'\n",
    "B = pd.concat([S,M], axis=1, sort=True)\n",
    "B"
   ]
  },
  {
   "cell_type": "markdown",
   "metadata": {},
   "source": [
    "データがない「Nan」を0で埋めてから、FGPを算出します。"
   ]
  },
  {
   "cell_type": "code",
   "execution_count": 59,
   "metadata": {},
   "outputs": [
    {
     "data": {
      "text/html": [
       "<div>\n",
       "<style scoped>\n",
       "    .dataframe tbody tr th:only-of-type {\n",
       "        vertical-align: middle;\n",
       "    }\n",
       "\n",
       "    .dataframe tbody tr th {\n",
       "        vertical-align: top;\n",
       "    }\n",
       "\n",
       "    .dataframe thead th {\n",
       "        text-align: right;\n",
       "    }\n",
       "</style>\n",
       "<table border=\"1\" class=\"dataframe\">\n",
       "  <thead>\n",
       "    <tr style=\"text-align: right;\">\n",
       "      <th></th>\n",
       "      <th>shot</th>\n",
       "      <th>total</th>\n",
       "      <th>FGP</th>\n",
       "    </tr>\n",
       "  </thead>\n",
       "  <tbody>\n",
       "    <tr>\n",
       "      <th>Anderson Varejao</th>\n",
       "      <td>0.0</td>\n",
       "      <td>1.0</td>\n",
       "      <td>0.000000</td>\n",
       "    </tr>\n",
       "    <tr>\n",
       "      <th>Andre Iguodala</th>\n",
       "      <td>4.0</td>\n",
       "      <td>12.0</td>\n",
       "      <td>0.333333</td>\n",
       "    </tr>\n",
       "    <tr>\n",
       "      <th>Channing Frye</th>\n",
       "      <td>0.0</td>\n",
       "      <td>1.0</td>\n",
       "      <td>0.000000</td>\n",
       "    </tr>\n",
       "    <tr>\n",
       "      <th>Draymond Green</th>\n",
       "      <td>2.0</td>\n",
       "      <td>9.0</td>\n",
       "      <td>0.222222</td>\n",
       "    </tr>\n",
       "    <tr>\n",
       "      <th>Harrison Barnes</th>\n",
       "      <td>5.0</td>\n",
       "      <td>11.0</td>\n",
       "      <td>0.454545</td>\n",
       "    </tr>\n",
       "    <tr>\n",
       "      <th>Iman Shumpert</th>\n",
       "      <td>1.0</td>\n",
       "      <td>5.0</td>\n",
       "      <td>0.200000</td>\n",
       "    </tr>\n",
       "    <tr>\n",
       "      <th>J.R. Smith</th>\n",
       "      <td>3.0</td>\n",
       "      <td>10.0</td>\n",
       "      <td>0.300000</td>\n",
       "    </tr>\n",
       "    <tr>\n",
       "      <th>James Michael McAdoo</th>\n",
       "      <td>1.0</td>\n",
       "      <td>1.0</td>\n",
       "      <td>1.000000</td>\n",
       "    </tr>\n",
       "    <tr>\n",
       "      <th>Kevin Love</th>\n",
       "      <td>3.0</td>\n",
       "      <td>6.0</td>\n",
       "      <td>0.500000</td>\n",
       "    </tr>\n",
       "    <tr>\n",
       "      <th>Klay Thompson</th>\n",
       "      <td>7.0</td>\n",
       "      <td>14.0</td>\n",
       "      <td>0.500000</td>\n",
       "    </tr>\n",
       "    <tr>\n",
       "      <th>Kyrie Irving</th>\n",
       "      <td>14.0</td>\n",
       "      <td>28.0</td>\n",
       "      <td>0.500000</td>\n",
       "    </tr>\n",
       "    <tr>\n",
       "      <th>LeBron James</th>\n",
       "      <td>11.0</td>\n",
       "      <td>21.0</td>\n",
       "      <td>0.523810</td>\n",
       "    </tr>\n",
       "    <tr>\n",
       "      <th>Matthew Dellavedova</th>\n",
       "      <td>0.0</td>\n",
       "      <td>1.0</td>\n",
       "      <td>0.000000</td>\n",
       "    </tr>\n",
       "    <tr>\n",
       "      <th>Richard Jefferson</th>\n",
       "      <td>1.0</td>\n",
       "      <td>2.0</td>\n",
       "      <td>0.500000</td>\n",
       "    </tr>\n",
       "    <tr>\n",
       "      <th>Shaun Livingston</th>\n",
       "      <td>3.0</td>\n",
       "      <td>8.0</td>\n",
       "      <td>0.375000</td>\n",
       "    </tr>\n",
       "    <tr>\n",
       "      <th>Stephen Curry</th>\n",
       "      <td>11.0</td>\n",
       "      <td>25.0</td>\n",
       "      <td>0.440000</td>\n",
       "    </tr>\n",
       "    <tr>\n",
       "      <th>Tristan Thompson</th>\n",
       "      <td>5.0</td>\n",
       "      <td>7.0</td>\n",
       "      <td>0.714286</td>\n",
       "    </tr>\n",
       "  </tbody>\n",
       "</table>\n",
       "</div>"
      ],
      "text/plain": [
       "                      shot  total       FGP\n",
       "Anderson Varejao       0.0    1.0  0.000000\n",
       "Andre Iguodala         4.0   12.0  0.333333\n",
       "Channing Frye          0.0    1.0  0.000000\n",
       "Draymond Green         2.0    9.0  0.222222\n",
       "Harrison Barnes        5.0   11.0  0.454545\n",
       "Iman Shumpert          1.0    5.0  0.200000\n",
       "J.R. Smith             3.0   10.0  0.300000\n",
       "James Michael McAdoo   1.0    1.0  1.000000\n",
       "Kevin Love             3.0    6.0  0.500000\n",
       "Klay Thompson          7.0   14.0  0.500000\n",
       "Kyrie Irving          14.0   28.0  0.500000\n",
       "LeBron James          11.0   21.0  0.523810\n",
       "Matthew Dellavedova    0.0    1.0  0.000000\n",
       "Richard Jefferson      1.0    2.0  0.500000\n",
       "Shaun Livingston       3.0    8.0  0.375000\n",
       "Stephen Curry         11.0   25.0  0.440000\n",
       "Tristan Thompson       5.0    7.0  0.714286"
      ]
     },
     "execution_count": 59,
     "metadata": {},
     "output_type": "execute_result"
    }
   ],
   "source": [
    "B['shot'] = B['shot'].fillna(0)\n",
    "B['miss'] = B['miss'].fillna(0)\n",
    "B['total'] = B['shot']+B['miss']\n",
    "B['FGP'] = B['shot']/B['total']\n",
    "B = B.drop('miss', 1)\n",
    "B"
   ]
  },
  {
   "cell_type": "markdown",
   "metadata": {},
   "source": [
    "最後に、選手のプレイ時間を算出します。"
   ]
  },
  {
   "cell_type": "code",
   "execution_count": 95,
   "metadata": {},
   "outputs": [
    {
     "name": "stdout",
     "output_type": "stream",
     "text": [
      "('Anderson Varejao', 'Andre Iguodala', 'Draymond Green', 'Klay Thompson', 'Stephen Curry') 0\n",
      "('Anderson Varejao', 'Andre Iguodala', 'Draymond Green', 'Shaun Livingston', 'Stephen Curry') 242\n",
      "('Anderson Varejao', 'Andre Iguodala', 'Klay Thompson', 'Marreese Speights', 'Stephen Curry') 0\n",
      "('Anderson Varejao', 'Andre Iguodala', 'Marreese Speights', 'Shaun Livingston', 'Stephen Curry') 0\n",
      "('Andre Iguodala', 'Draymond Green', 'Festus Ezeli', 'Klay Thompson', 'Stephen Curry') 28\n",
      "('Andre Iguodala', 'Draymond Green', 'Harrison Barnes', 'Klay Thompson', 'Shaun Livingston') 324\n",
      "('Andre Iguodala', 'Draymond Green', 'Harrison Barnes', 'Klay Thompson', 'Stephen Curry') 1020\n",
      "('Andre Iguodala', 'Draymond Green', 'Harrison Barnes', 'Shaun Livingston', 'Stephen Curry') 119\n",
      "('Andre Iguodala', 'Draymond Green', 'James Michael McAdoo', 'Klay Thompson', 'Stephen Curry') 111\n",
      "('Andre Iguodala', 'Draymond Green', 'James Michael McAdoo', 'Shaun Livingston', 'Stephen Curry') 36\n",
      "('Andre Iguodala', 'Draymond Green', 'Klay Thompson', 'Shaun Livingston', 'Stephen Curry') 45\n",
      "('Andre Iguodala', 'Festus Ezeli', 'Harrison Barnes', 'Klay Thompson', 'Stephen Curry') 0\n",
      "('Andre Iguodala', 'Harrison Barnes', 'James Michael McAdoo', 'Klay Thompson', 'Shaun Livingston') 177\n",
      "('Andre Iguodala', 'Harrison Barnes', 'James Michael McAdoo', 'Shaun Livingston', 'Stephen Curry') 121\n",
      "('Andre Iguodala', 'Harrison Barnes', 'Klay Thompson', 'Marreese Speights', 'Stephen Curry') 5\n",
      "('Andrew Bogut', 'Draymond Green', 'Harrison Barnes', 'Klay Thompson', 'Stephen Curry') 601\n",
      "('Draymond Green', 'Festus Ezeli', 'Harrison Barnes', 'Klay Thompson', 'Stephen Curry') 0\n",
      "('Draymond Green', 'Festus Ezeli', 'Klay Thompson', 'Shaun Livingston', 'Stephen Curry') 8\n",
      "('Festus Ezeli', 'Harrison Barnes', 'Klay Thompson', 'Shaun Livingston', 'Stephen Curry') 43\n"
     ]
    }
   ],
   "source": [
    "a = game.loc[0:, 'a1':'a5'].values\n",
    "a.sort(axis=1)\n",
    "awaysort = pd.DataFrame(a, game.index, list(game.columns.values)[3:8])\n",
    "game.loc[0:, 'a1':'a5'] = awaysort.loc[0:, 'a1':'a5']\n",
    "onCourt = game.groupby(['a1','a2','a3','a4','a5'])\n",
    "\n",
    "for key in onCourt.groups.keys():\n",
    "    print('{} {}'.format(key, pd.to_numeric(onCourt.get_group(key)['play_length'].str[-2:]).sum()))"
   ]
  },
  {
   "cell_type": "markdown",
   "metadata": {},
   "source": [
    "プレイ時間合計"
   ]
  },
  {
   "cell_type": "code",
   "execution_count": 98,
   "metadata": {},
   "outputs": [
    {
     "data": {
      "text/plain": [
       "48.0"
      ]
     },
     "execution_count": 98,
     "metadata": {},
     "output_type": "execute_result"
    }
   ],
   "source": [
    "tots = 0\n",
    "for key in onCourt.groups.keys():\n",
    "    tots = tots + pd.to_numeric(onCourt.get_group(key)['play_length'].str[-2:]).sum()\n",
    "\n",
    "tots/60"
   ]
  },
  {
   "cell_type": "markdown",
   "metadata": {},
   "source": [
    "選手別プレイ時間"
   ]
  },
  {
   "cell_type": "code",
   "execution_count": 125,
   "metadata": {},
   "outputs": [
    {
     "data": {
      "text/plain": [
       "{'player': 'time',\n",
       " 'Anderson Varejao': 242,\n",
       " 'Andre Iguodala': 2228,\n",
       " 'Draymond Green': 2534,\n",
       " 'Klay Thompson': 2362,\n",
       " 'Stephen Curry': 2379,\n",
       " 'Shaun Livingston': 1115,\n",
       " 'Marreese Speights': 5,\n",
       " 'Festus Ezeli': 79,\n",
       " 'Harrison Barnes': 2410,\n",
       " 'James Michael McAdoo': 445,\n",
       " 'Andrew Bogut': 601}"
      ]
     },
     "execution_count": 125,
     "metadata": {},
     "output_type": "execute_result"
    }
   ],
   "source": [
    "playerTimes = {'player':'time'}\n",
    "\n",
    "for key in onCourt.groups.keys():\n",
    "    for playerName in key:\n",
    "        if playerName in playerTimes:\n",
    "            playerTimes[playerName] += pd.to_numeric(onCourt.get_group(key)['play_length'].str[-2:]).sum()\n",
    "        else:\n",
    "            playerTimes[playerName] = pd.to_numeric(onCourt.get_group(key)['play_length'].str[-2:]).sum()\n",
    "        \n",
    "playerTimes"
   ]
  },
  {
   "cell_type": "markdown",
   "metadata": {},
   "source": [
    "ヘッダ行を削除して、時間を秒⇒HH:MM:SSの形式へフォーマット"
   ]
  },
  {
   "cell_type": "code",
   "execution_count": 126,
   "metadata": {},
   "outputs": [
    {
     "data": {
      "text/plain": [
       "{'Anderson Varejao': 242,\n",
       " 'Andre Iguodala': 2228,\n",
       " 'Draymond Green': 2534,\n",
       " 'Klay Thompson': 2362,\n",
       " 'Stephen Curry': 2379,\n",
       " 'Shaun Livingston': 1115,\n",
       " 'Marreese Speights': 5,\n",
       " 'Festus Ezeli': 79,\n",
       " 'Harrison Barnes': 2410,\n",
       " 'James Michael McAdoo': 445,\n",
       " 'Andrew Bogut': 601}"
      ]
     },
     "execution_count": 126,
     "metadata": {},
     "output_type": "execute_result"
    }
   ],
   "source": [
    "del playerTimes['player']\n",
    "playerTimes"
   ]
  },
  {
   "cell_type": "code",
   "execution_count": 144,
   "metadata": {},
   "outputs": [
    {
     "data": {
      "text/plain": [
       "{'Anderson Varejao': '04:02',\n",
       " 'Andre Iguodala': '37:08',\n",
       " 'Draymond Green': '42:14',\n",
       " 'Klay Thompson': '39:22',\n",
       " 'Stephen Curry': '39:39',\n",
       " 'Shaun Livingston': '18:35',\n",
       " 'Marreese Speights': '00:05',\n",
       " 'Festus Ezeli': '01:19',\n",
       " 'Harrison Barnes': '40:10',\n",
       " 'James Michael McAdoo': '07:25',\n",
       " 'Andrew Bogut': '10:01'}"
      ]
     },
     "execution_count": 144,
     "metadata": {},
     "output_type": "execute_result"
    }
   ],
   "source": [
    "import math \n",
    "\n",
    "for key, value in playerTimes.items():\n",
    "    playerTimes[key] = '{:02}'.format(math.floor(value/60)) + ':'+'{:02}'.format(value%60)\n",
    "\n",
    "playerTimes"
   ]
  },
  {
   "cell_type": "markdown",
   "metadata": {},
   "source": [
    "# 3 Visualization\n",
    "\n",
    "matplotlibを使ってデータを可視化します。"
   ]
  },
  {
   "cell_type": "code",
   "execution_count": 5,
   "metadata": {},
   "outputs": [],
   "source": [
    "import matplotlib.pyplot as plt"
   ]
  },
  {
   "cell_type": "markdown",
   "metadata": {},
   "source": [
    "最初にスコアフローを作成します。"
   ]
  },
  {
   "cell_type": "code",
   "execution_count": 184,
   "metadata": {},
   "outputs": [
    {
     "data": {
      "image/png": "[encoded data removed]",
      "text/plain": [
       "<Figure size 432x288 with 1 Axes>"
      ]
     },
     "metadata": {},
     "output_type": "display_data"
    }
   ],
   "source": [
    "time = ((11 - pd.to_numeric(game['remaining_time'].str[-5:-3]))*60) + (60 - pd.to_numeric(game['remaining_time'].str[-2:])) + (pd.to_numeric(game['period']) - 1)*720\n",
    "                                                                           \n",
    "away = pd.to_numeric(game['away_score'])\n",
    "home = pd.to_numeric(game['home_score'])\n",
    "plt.plot(time,home,'silver')\n",
    "plt.plot(time,away,'cyan')\n",
    "plt.show()"
   ]
  },
  {
   "cell_type": "markdown",
   "metadata": {},
   "source": [
    "次にショットチャートを作成します。\n",
    "\n",
    "チームとイベントタイプ別にグルーピングしたデータを用意し、<br/>\n",
    "成功：緑、失敗：赤　でベーシックなショットチャートを作成します。"
   ]
  },
  {
   "cell_type": "code",
   "execution_count": 188,
   "metadata": {},
   "outputs": [
    {
     "data": {
      "image/png": "[encoded data removed]",
      "text/plain": [
       "<Figure size 432x288 with 1 Axes>"
      ]
     },
     "metadata": {},
     "output_type": "display_data"
    }
   ],
   "source": [
    "team = game.groupby(['team','event_type'])\n",
    "team.get_group(('GSW', 'shot'))\n",
    "team.get_group(('CLE', 'shot')).loc[0:,'converted_x':'converted_y']\n",
    "\n",
    "plt.plot(team.get_group(('GSW', 'shot')).loc[0:,'converted_x'],team.get_group(('GSW', 'shot')).loc[0:,'converted_y'],'go')\n",
    "plt.plot(team.get_group(('GSW', 'miss')).loc[0:,'converted_x'],team.get_group(('GSW', 'miss')).loc[0:,'converted_y'],'ro')\n",
    "plt.show()\n"
   ]
  },
  {
   "cell_type": "markdown",
   "metadata": {},
   "source": [
    "X軸の25あたりがリングですね。ミドルレンジのシュートがあまり決まっていなかったようです。"
   ]
  },
  {
   "cell_type": "code",
   "execution_count": null,
   "metadata": {},
   "outputs": [],
   "source": []
  }
 ],
 "metadata": {
  "kernelspec": {
   "display_name": "Python 3",
   "language": "python",
   "name": "python3"
  },
  "language_info": {
   "codemirror_mode": {
    "name": "ipython",
    "version": 3
   },
   "file_extension": ".py",
   "mimetype": "text/x-python",
   "name": "python",
   "nbconvert_exporter": "python",
   "pygments_lexer": "ipython3",
   "version": "3.6.5"
  }
 },
 "nbformat": 4,
 "nbformat_minor": 2
}
